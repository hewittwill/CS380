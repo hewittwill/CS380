{
 "cells": [
  {
   "cell_type": "markdown",
   "metadata": {},
   "source": [
    "# CS380 Prepare Data\n",
    "\n",
    "**Author:** Will Hewitt"
   ]
  },
  {
   "cell_type": "markdown",
   "metadata": {},
   "source": [
    "### Purpose\n",
    "\n",
    "Generates v5 from v2, see Data README\n",
    "\n",
    "### Conda Environment\n",
    "\n",
    "Base Environment\n",
    "\n",
    "### Data Sources\n",
    "\n",
    "`/data/camus/v2`\n",
    "\n",
    "### References\n",
    "\n",
    "See CS380-UNet and CS380-UNet-Evaluate"
   ]
  },
  {
   "cell_type": "code",
   "execution_count": 3,
   "metadata": {},
   "outputs": [],
   "source": [
    "import numpy as np\n",
    "import matplotlib.pyplot as plt\n",
    "\n",
    "from tensorflow.keras.utils import to_categorical"
   ]
  },
  {
   "cell_type": "markdown",
   "metadata": {},
   "source": [
    "###### Load base dataset (v2)"
   ]
  },
  {
   "cell_type": "code",
   "execution_count": 2,
   "metadata": {},
   "outputs": [],
   "source": [
    "x_data = np.load('/srv/jupyterhub_notebooks/data/camus/v2/x_data.npy')\n",
    "\n",
    "y_data = np.load('/srv/jupyterhub_notebooks/data/camus/v2/y_data.npy')"
   ]
  },
  {
   "cell_type": "markdown",
   "metadata": {},
   "source": [
    "###### Scale X from 0-1, convert Y to one hot encoding"
   ]
  },
  {
   "cell_type": "code",
   "execution_count": 6,
   "metadata": {},
   "outputs": [],
   "source": [
    "x_new = np.zeros((900, 256, 256))\n",
    "for i, x in enumerate(x_data):\n",
    "    x_new[i] = x/255\n",
    "\n",
    "# Reshape X to include an arbitrary fourth dimension\n",
    "\n",
    "x_new = np.reshape(x_new, (900, 256, 256, 1))\n",
    "    \n",
    "y_new = np.zeros((900, 256, 256, 4))\n",
    "\n",
    "for i, y in enumerate(y_data):\n",
    "    y_new[i] = to_categorical(y, num_classes=4)\n"
   ]
  },
  {
   "cell_type": "markdown",
   "metadata": {},
   "source": [
    "###### Train, Test, Val Split - (80, 10, 10)"
   ]
  },
  {
   "cell_type": "code",
   "execution_count": 9,
   "metadata": {},
   "outputs": [],
   "source": [
    "x_train, x_test, x_val = x_new[:720], x_new[720:810], x_new[810:]\n",
    "y_train, y_test, y_val = y_new[:720], y_new[720:810], y_new[810:]"
   ]
  },
  {
   "cell_type": "markdown",
   "metadata": {},
   "source": [
    "###### Save to files in v5 folder"
   ]
  },
  {
   "cell_type": "code",
   "execution_count": 10,
   "metadata": {},
   "outputs": [],
   "source": [
    "np.save('/srv/jupyterhub_notebooks/data/camus/v5/x_train.npy', x_train)\n",
    "np.save('/srv/jupyterhub_notebooks/data/camus/v5/x_test.npy', x_test)\n",
    "np.save('/srv/jupyterhub_notebooks/data/camus/v5/x_val.npy', x_val)\n",
    "\n",
    "np.save('/srv/jupyterhub_notebooks/data/camus/v5/y_train.npy', y_train)\n",
    "np.save('/srv/jupyterhub_notebooks/data/camus/v5/y_test.npy', y_test)\n",
    "np.save('/srv/jupyterhub_notebooks/data/camus/v5/y_val.npy', y_val)"
   ]
  }
 ],
 "metadata": {
  "kernelspec": {
   "display_name": "Python 3",
   "language": "python",
   "name": "python3"
  },
  "language_info": {
   "codemirror_mode": {
    "name": "ipython",
    "version": 3
   },
   "file_extension": ".py",
   "mimetype": "text/x-python",
   "name": "python",
   "nbconvert_exporter": "python",
   "pygments_lexer": "ipython3",
   "version": "3.7.3"
  }
 },
 "nbformat": 4,
 "nbformat_minor": 4
}
